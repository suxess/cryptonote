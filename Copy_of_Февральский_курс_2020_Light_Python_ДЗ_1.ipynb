{
  "nbformat": 4,
  "nbformat_minor": 0,
  "metadata": {
    "kernelspec": {
      "display_name": "Python 3",
      "language": "python",
      "name": "python3"
    },
    "language_info": {
      "codemirror_mode": {
        "name": "ipython",
        "version": 3
      },
      "file_extension": ".py",
      "mimetype": "text/x-python",
      "name": "python",
      "nbconvert_exporter": "python",
      "pygments_lexer": "ipython3",
      "version": "3.6.8"
    },
    "colab": {
      "name": "Copy of Февральский курс 2020. Light. Python. ДЗ-1",
      "provenance": [],
      "collapsed_sections": [],
      "toc_visible": true,
      "include_colab_link": true
    }
  },
  "cells": [
    {
      "cell_type": "markdown",
      "metadata": {
        "id": "view-in-github",
        "colab_type": "text"
      },
      "source": [
        "<a href=\"https://colab.research.google.com/github/suxess/cryptonote/blob/master/Copy_of_%D0%A4%D0%B5%D0%B2%D1%80%D0%B0%D0%BB%D1%8C%D1%81%D0%BA%D0%B8%D0%B9_%D0%BA%D1%83%D1%80%D1%81_2020_Light_Python_%D0%94%D0%97_1.ipynb\" target=\"_parent\"><img src=\"https://colab.research.google.com/assets/colab-badge.svg\" alt=\"Open In Colab\"/></a>"
      ]
    },
    {
      "cell_type": "markdown",
      "metadata": {
        "id": "U7hoFvcehdnc",
        "colab_type": "text"
      },
      "source": [
        "## Домашнее задание 1: Введение в Python"
      ]
    },
    {
      "cell_type": "markdown",
      "metadata": {
        "id": "0cQ01NCnkysR",
        "colab_type": "text"
      },
      "source": [
        "## Light версия"
      ]
    },
    {
      "cell_type": "markdown",
      "metadata": {
        "id": "bW_kKRKthdn7",
        "colab_type": "text"
      },
      "source": [
        "### Задача 1\n",
        "\n",
        "Считайте с входящей строки два целых числа и выведите их сумму, разность, произведение."
      ]
    },
    {
      "cell_type": "code",
      "metadata": {
        "id": "oJdmSO_EBIt-",
        "colab_type": "code",
        "outputId": "d377563a-199b-4fdc-ee2a-52abd4d66029",
        "colab": {
          "base_uri": "https://localhost:8080/",
          "height": 118
        }
      },
      "source": [
        "x = int(input('Введите первое число: '))\n",
        "y = int(input('Введите второе число: '))\n",
        "print ('Вы ввели числа: ', x, 'и', y)\n",
        "\n",
        "print('Сумма чисел: ', x + y)\n",
        "print('Разность чисел: ', x - y)\n",
        "print('Произведение чисел: ', x * y)"
      ],
      "execution_count": 0,
      "outputs": [
        {
          "output_type": "stream",
          "text": [
            "Введите первое число: 5\n",
            "Введите второе число: 7\n",
            "Вы ввели числа:  5 и 7\n",
            "Сумма чисел:  12\n",
            "Разность чисел:  -2\n",
            "Произведение чисел:  35\n"
          ],
          "name": "stdout"
        }
      ]
    },
    {
      "cell_type": "markdown",
      "metadata": {
        "id": "PguJdnEqhdoI",
        "colab_type": "text"
      },
      "source": [
        "### Задача 2\n",
        "\n",
        "Дан ряд целых чисел от 10 до 25 включительно. Используя цикл for выведите на экран сумму двух последовательно идущих чисел.\n",
        "\n",
        "\n",
        "**Пример**: \n",
        "\n",
        "Для ряда от 2 до 6 включительно выдача выглядит так: \n",
        "\n",
        "5\n",
        "\n",
        "7\n",
        "\n",
        "9\n",
        "\n",
        "11\n"
      ]
    },
    {
      "cell_type": "code",
      "metadata": {
        "id": "4cohdx2AKs4Q",
        "colab_type": "code",
        "outputId": "c4bb6b94-f578-4299-b578-e4c62c84738d",
        "colab": {
          "base_uri": "https://localhost:8080/",
          "height": 269
        }
      },
      "source": [
        "#заготовки\n",
        "for i in range(10, 25): #диапазон с ... до\n",
        "    print(i+i+1)"
      ],
      "execution_count": 0,
      "outputs": [
        {
          "output_type": "stream",
          "text": [
            "21\n",
            "23\n",
            "25\n",
            "27\n",
            "29\n",
            "31\n",
            "33\n",
            "35\n",
            "37\n",
            "39\n",
            "41\n",
            "43\n",
            "45\n",
            "47\n",
            "49\n"
          ],
          "name": "stdout"
        }
      ]
    },
    {
      "cell_type": "markdown",
      "metadata": {
        "id": "CZpydHtThdoR",
        "colab_type": "text"
      },
      "source": [
        "### Задача 3\n",
        "\n",
        "Для ряда целых чисел от 100 до 150 включительно выведите на экран только те, что делятся на 5 без остатка."
      ]
    },
    {
      "cell_type": "code",
      "metadata": {
        "id": "gTpZZrmfVw5k",
        "colab_type": "code",
        "outputId": "f7e84b79-a631-4b53-edbe-3089bce714dc",
        "colab": {
          "base_uri": "https://localhost:8080/",
          "height": 202
        }
      },
      "source": [
        "for i in range(100, 150+1): #диапазон с ... до\n",
        "  if i % 5 == 0:\n",
        "     print(i)"
      ],
      "execution_count": 0,
      "outputs": [
        {
          "output_type": "stream",
          "text": [
            "100\n",
            "105\n",
            "110\n",
            "115\n",
            "120\n",
            "125\n",
            "130\n",
            "135\n",
            "140\n",
            "145\n",
            "150\n"
          ],
          "name": "stdout"
        }
      ]
    },
    {
      "cell_type": "markdown",
      "metadata": {
        "id": "_L4Bd414hdog",
        "colab_type": "text"
      },
      "source": [
        "### Задача 4\n",
        "\n",
        "Считайте с входящей строки целое положительное число и сохраните его в переменную N. Используя конструкцию if...else выведите на экран результат в зависимости от условий:\n",
        "\n",
        "* Если N нечетное, то выведите на экран \"N нечетное\"\n",
        "* Если N четное и входит в интервал от 5 до 10 включительно, выведите на экран \"N четное и принадлежит интервалу [5, 10]\"\n",
        "* Если N четное и больше 10, выведите на экран \"N четное и N > 10\"\n",
        "* Если N четное и меньше 5, выведите на экран \"N четное и N < 5\""
      ]
    },
    {
      "cell_type": "code",
      "metadata": {
        "id": "n7vMifRNq6XT",
        "colab_type": "code",
        "outputId": "adec7009-0a77-442b-e8e3-24b131fbec96",
        "colab": {
          "base_uri": "https://localhost:8080/",
          "height": 50
        }
      },
      "source": [
        "N = int(input('Введите число: '))\n",
        "if N % 2 != 0:    #Проверяем четность введенного числа\n",
        "    print('Нечетное число')\n",
        "elif N >= 5 and N <= 10: #Проверяем ряд условий\n",
        "    print('N четное и принадлежит интервалу [5, 10]')\n",
        "elif N > 10:\n",
        "    print('N четное и N > 10')\n",
        "elif N < 5:\n",
        "    print('N четное и N < 5')"
      ],
      "execution_count": 0,
      "outputs": [
        {
          "output_type": "stream",
          "text": [
            "Введите число: 14\n",
            "N четное и N > 10\n"
          ],
          "name": "stdout"
        }
      ]
    },
    {
      "cell_type": "markdown",
      "metadata": {
        "id": "WQweBQ8nhdol",
        "colab_type": "text"
      },
      "source": [
        "### Задача 5\n",
        "\n",
        "Используя цикл while, посчитайте и выведите на экран сумму всех целых чисел от 15 до 22 включительно.\n"
      ]
    },
    {
      "cell_type": "code",
      "metadata": {
        "id": "PsIzNk9xtFUg",
        "colab_type": "code",
        "outputId": "64d497ea-c60b-4102-c4d9-e55a0a230b58",
        "colab": {
          "base_uri": "https://localhost:8080/",
          "height": 34
        }
      },
      "source": [
        "N = 15\n",
        "\n",
        "s = 0\n",
        "while N <= 22:\n",
        "    s = s + N\n",
        "    N += 1\n",
        "print(s)\n"
      ],
      "execution_count": 0,
      "outputs": [
        {
          "output_type": "stream",
          "text": [
            "148\n"
          ],
          "name": "stdout"
        }
      ]
    },
    {
      "cell_type": "markdown",
      "metadata": {
        "id": "YhJKiRAchdow",
        "colab_type": "text"
      },
      "source": [
        "### Задача 6\n",
        "\n",
        "Используя цикл for, найдите сумму всех элементов заданного списка. (Без использования встроенных функций sum и т.д.)"
      ]
    },
    {
      "cell_type": "code",
      "metadata": {
        "id": "Im5W6TNGhdo6",
        "colab_type": "code",
        "outputId": "d11b542e-c53f-428b-dfca-8d7a67ef45fa",
        "colab": {
          "base_uri": "https://localhost:8080/",
          "height": 34
        }
      },
      "source": [
        "my_list = [56, 23, 67, 45, 67, 2, 47, 158, 31, 34, 78, 23, 78, 23, 89, 23, 36]\n",
        "\n",
        "s=0\n",
        "for el in my_list:\n",
        "  s += el\n",
        "print(s)"
      ],
      "execution_count": 0,
      "outputs": [
        {
          "output_type": "stream",
          "text": [
            "880\n"
          ],
          "name": "stdout"
        }
      ]
    },
    {
      "cell_type": "markdown",
      "metadata": {
        "id": "wIZELo0mhdpU",
        "colab_type": "text"
      },
      "source": [
        "### Задача 7\n",
        "\n",
        "Используя цикл (любой) найдите значение максимального элемента списка из предыдущего задания. (Без использования встроенных функций max и т.д.) Можно использовать встроенные методы списков (любые). \n",
        "\n",
        "P.S.: не стесняйтесь гуглить :)\n",
        "\n",
        "P.S.2: гуглить нужно фразу \"алгоритм поиска максимального элемента массива\"\n",
        "\n",
        "Пример: для списка [3, 4, 1, 7, 2] значением максимального элемента является число 7"
      ]
    },
    {
      "cell_type": "code",
      "metadata": {
        "id": "sCnsKFDumSuR",
        "colab_type": "code",
        "outputId": "48b46610-110f-4e89-b499-475a9fb39e1d",
        "colab": {
          "base_uri": "https://localhost:8080/",
          "height": 34
        }
      },
      "source": [
        "# задаем список из предыдущего примера \n",
        "my_list = [56, 23, 67, 45, 67, 2, 47, 158, 31, 34, 78, 23, 78, 23, 89, 23, 36]\n",
        "# предположим, что максимальный элемент равен 0\n",
        "maximum = my_list[0]\n",
        "#перебираем в цикле все значения списка и сравниваем с максимумом\n",
        "for i in range(1, len(my_list)):\n",
        "    if my_list[i] > maximum:\n",
        "        maximum = my_list[i]\n",
        "print(maximum)"
      ],
      "execution_count": 0,
      "outputs": [
        {
          "output_type": "stream",
          "text": [
            "158\n"
          ],
          "name": "stdout"
        }
      ]
    },
    {
      "cell_type": "markdown",
      "metadata": {
        "id": "omPfU7u9hdpi",
        "colab_type": "text"
      },
      "source": [
        "### Задача 8\n",
        "\n",
        "Создайте словарь, соответствующий следующему описанию: \n",
        "    \n",
        "В честь 8 марта начальник отдела Валера решил принести на работу коробку конфет и угостить коллег :) Красотка Наташа съела две конфеты, ее подруга Алина - целых три, разработчик Марат унес с собой в соседний опен-спейс целых пятнадцать, чтобы поделиться со своей командой, менеджер проекта Лев проходил мимо и съел одну конфету, а сам Валера, будучи сторонником здорового образа жизни, ни съел ни одной.\n",
        "\n",
        "P.S. все совпадения случайны :)"
      ]
    },
    {
      "cell_type": "code",
      "metadata": {
        "id": "wZkOh77Fx1Ql",
        "colab_type": "code",
        "colab": {}
      },
      "source": [
        "my_dict = {'Наташа' : '2 конфеты', \n",
        "           'Алина' : '3 конфеты', \n",
        "           'Марат' : '15 конфеты', \n",
        "           'Лев' : '1 конфету', \n",
        "           'Валера' : '0 конфет'\n",
        "           }"
      ],
      "execution_count": 0,
      "outputs": []
    },
    {
      "cell_type": "code",
      "metadata": {
        "id": "uUof8S-50gxw",
        "colab_type": "code",
        "outputId": "e74189b5-50c8-4045-dc4d-29a649bfeb14",
        "colab": {
          "base_uri": "https://localhost:8080/",
          "height": 101
        }
      },
      "source": [
        "my_dict"
      ],
      "execution_count": 0,
      "outputs": [
        {
          "output_type": "execute_result",
          "data": {
            "text/plain": [
              "{'Алина': '3 конфеты',\n",
              " 'Валера': '0 конфет',\n",
              " 'Лев': '1 конфету',\n",
              " 'Марат': '15 конфеты',\n",
              " 'Наташа': '2 конфеты'}"
            ]
          },
          "metadata": {
            "tags": []
          },
          "execution_count": 3
        }
      ]
    },
    {
      "cell_type": "code",
      "metadata": {
        "id": "nNXPuhMx1fGB",
        "colab_type": "code",
        "outputId": "8825c643-5307-4a0c-b483-e73d7abe7c90",
        "colab": {
          "base_uri": "https://localhost:8080/",
          "height": 34
        }
      },
      "source": [
        "my_dict.keys()"
      ],
      "execution_count": 0,
      "outputs": [
        {
          "output_type": "execute_result",
          "data": {
            "text/plain": [
              "dict_keys(['Наташа', 'Алина', 'Марат', 'Лев', 'Валера'])"
            ]
          },
          "metadata": {
            "tags": []
          },
          "execution_count": 10
        }
      ]
    },
    {
      "cell_type": "code",
      "metadata": {
        "id": "HO1_scyCPjU9",
        "colab_type": "code",
        "outputId": "f0f49082-b592-4008-9de1-1ef938dba36f",
        "colab": {
          "base_uri": "https://localhost:8080/",
          "height": 34
        }
      },
      "source": [
        "my_dict.values()"
      ],
      "execution_count": 0,
      "outputs": [
        {
          "output_type": "execute_result",
          "data": {
            "text/plain": [
              "dict_values(['2 конфеты', '3 конфеты', '15 конфеты', '1 конфету', '0 конфет'])"
            ]
          },
          "metadata": {
            "tags": []
          },
          "execution_count": 4
        }
      ]
    },
    {
      "cell_type": "markdown",
      "metadata": {
        "id": "UUK9d5hUhdpz",
        "colab_type": "text"
      },
      "source": [
        "### Задача 9\n",
        "\n",
        "Добавьте в словарь из предыдущего задания данные для студента Ромы, который работает неполный рабочий день, и, придя на работу после экзамена, с удовольствием съел 4 конфеты.\n",
        "\n",
        "P.S. используйте встроенный метод .update"
      ]
    },
    {
      "cell_type": "code",
      "metadata": {
        "id": "Bzcq9KgC2qID",
        "colab_type": "code",
        "outputId": "6bb04ea8-8a58-4cbd-e043-1bf638fd7e06",
        "colab": {
          "base_uri": "https://localhost:8080/",
          "height": 34
        }
      },
      "source": [
        "#без указания функции update\n",
        "my_dict = {'Наташа' : '2 конфеты', \n",
        "           'Алина' : '3 конфеты', \n",
        "           'Марат' : '15 конфеты', \n",
        "           'Лев' : '1 конфету', \n",
        "           'Валера' : '0 конфет'\n",
        "           }\n",
        "my_dict['Рома'] = '4 конфеты' \n",
        "print(my_dict)"
      ],
      "execution_count": 0,
      "outputs": [
        {
          "output_type": "stream",
          "text": [
            "{'Наташа': '2 конфеты', 'Алина': '3 конфеты', 'Марат': '15 конфеты', 'Лев': '1 конфету', 'Валера': '0 конфет', 'Рома': '4 конфеты'}\n"
          ],
          "name": "stdout"
        }
      ]
    },
    {
      "cell_type": "code",
      "metadata": {
        "id": "Qgv4ucBQ3CEF",
        "colab_type": "code",
        "outputId": "6f24ebdb-3deb-4b91-beed-548b3218e874",
        "colab": {
          "base_uri": "https://localhost:8080/",
          "height": 34
        }
      },
      "source": [
        "# с ипользованием функции update (можно разом много значений вносить - объединяем словари)\n",
        "my_dict = {'Наташа' : '2 конфеты', \n",
        "           'Алина' : '3 конфеты', \n",
        "           'Марат' : '15 конфеты', \n",
        "           'Лев' : '1 конфету', \n",
        "           'Валера' : '0 конфет'\n",
        "           }\n",
        "a = {'Рома' : '4 конфеты'}\n",
        "my_dict.update(a)\n",
        "print(my_dict)"
      ],
      "execution_count": 0,
      "outputs": [
        {
          "output_type": "stream",
          "text": [
            "{'Наташа': '2 конфеты', 'Алина': '3 конфеты', 'Марат': '15 конфеты', 'Лев': '1 конфету', 'Валера': '0 конфет', 'Рома': '4 конфеты'}\n"
          ],
          "name": "stdout"
        }
      ]
    },
    {
      "cell_type": "markdown",
      "metadata": {
        "id": "vpQOcxmhhdp9",
        "colab_type": "text"
      },
      "source": [
        "## Pro версия"
      ]
    },
    {
      "cell_type": "markdown",
      "metadata": {
        "id": "g9pd3inChdqC",
        "colab_type": "text"
      },
      "source": [
        "### Задача 1\n",
        "\n",
        "Выведите на экран следующий паттерн:\n",
        "\n",
        "@\n",
        "\n",
        "@ @\n",
        "\n",
        "@ @ @\n",
        "\n",
        "@ @ @ @ @\n",
        "\n",
        "Обратите внимание на пробел между символами"
      ]
    },
    {
      "cell_type": "code",
      "metadata": {
        "id": "QllEcMrFL3Cr",
        "colab_type": "code",
        "outputId": "f46cb9b0-f4ac-4ce0-955c-dd50e8c3d5dc",
        "colab": {
          "base_uri": "https://localhost:8080/",
          "height": 106
        }
      },
      "source": [
        "for i in range(6):\n",
        "  if i != 4:\n",
        "    print(i* '@ ')"
      ],
      "execution_count": 0,
      "outputs": [
        {
          "output_type": "stream",
          "text": [
            "\n",
            "@ \n",
            "@ @ \n",
            "@ @ @ \n",
            "@ @ @ @ @ \n"
          ],
          "name": "stdout"
        }
      ]
    },
    {
      "cell_type": "markdown",
      "metadata": {
        "id": "Vh7SqVB5hdqL",
        "colab_type": "text"
      },
      "source": [
        "### Задача 2\n",
        "\n",
        "Выведите на экран следующий паттерн:\n",
        "\n",
        "1\n",
        "\n",
        "2 2 \n",
        "\n",
        "3 3 3 \n",
        "\n",
        "4 4 4 4 \n",
        "\n",
        "5 5 5 5 5\n",
        "\n",
        "6 6 6 6\n",
        "\n",
        "7 7 7\n",
        "\n",
        "8 8\n",
        "\n",
        "9\n",
        "\n",
        "Обратите внимание на пробел между символами"
      ]
    },
    {
      "cell_type": "code",
      "metadata": {
        "id": "msKDTV1i4Xbu",
        "colab_type": "code",
        "outputId": "859438de-7737-47ce-9c2e-ef6f052e41bf",
        "colab": {
          "base_uri": "https://localhost:8080/",
          "height": 177
        }
      },
      "source": [
        "for i in range(1, 10):\n",
        "  if (i)<=5:\n",
        "    print((str(i) + ' ')*(i))\n",
        "  else:\n",
        "    print((str(i) + ' ')*(10-i))"
      ],
      "execution_count": 0,
      "outputs": [
        {
          "output_type": "stream",
          "text": [
            "1 \n",
            "2 2 \n",
            "3 3 3 \n",
            "4 4 4 4 \n",
            "5 5 5 5 5 \n",
            "6 6 6 6 \n",
            "7 7 7 \n",
            "8 8 \n",
            "9 \n"
          ],
          "name": "stdout"
        }
      ]
    },
    {
      "cell_type": "markdown",
      "metadata": {
        "id": "IMoF_J7AhdqT",
        "colab_type": "text"
      },
      "source": [
        "### Задача 3\n",
        "\n",
        "Используя цикл while, выведите на экран таблицу умножения для числа 7.\n",
        "\n",
        "**Пример:**\n",
        "    \n",
        "Для числе 5 выдача выглядит так:\n",
        "    \n",
        "5 * 1 = 5\n",
        "\n",
        "5 * 2 = 10\n",
        "\n",
        "5 * 3 = 15\n",
        "\n",
        "5 * 4 = 20\n",
        "\n",
        "5 * 5 = 25\n",
        "\n",
        "...\n",
        "\n",
        "5 * 9 = 45"
      ]
    },
    {
      "cell_type": "code",
      "metadata": {
        "id": "7TpgGrS5km6j",
        "colab_type": "code",
        "outputId": "8c3c6a81-de86-481a-e925-f256c2eaa37f",
        "colab": {
          "base_uri": "https://localhost:8080/",
          "height": 168
        }
      },
      "source": [
        "x = 7\n",
        "i = 0\n",
        "while i != 9:\n",
        "  i += 1\n",
        "  p = x * i\n",
        "  print(x, ' * ', i, ' = ', p)\n"
      ],
      "execution_count": 0,
      "outputs": [
        {
          "output_type": "stream",
          "text": [
            "7  *  1  =  7\n",
            "7  *  2  =  14\n",
            "7  *  3  =  21\n",
            "7  *  4  =  28\n",
            "7  *  5  =  35\n",
            "7  *  6  =  42\n",
            "7  *  7  =  49\n",
            "7  *  8  =  56\n",
            "7  *  9  =  63\n"
          ],
          "name": "stdout"
        }
      ]
    },
    {
      "cell_type": "markdown",
      "metadata": {
        "id": "rvEbKNeIhdqY",
        "colab_type": "text"
      },
      "source": [
        "### Задача 4\n",
        "\n",
        "Представьте, что вы подбрасываете два кубика одновременно. Считайте с входящей строки два целых числа d1 и d2. Проверьте, соответствуют ли введенные числа интервалу значений для кубика. Если нет, то выведите на экран строку \"Ошибка! Значение на кубике (1 или 2, вставьте подходящее значение) не входит в интервал [1, 6]\". В противном случае посчитайте сумму выпавших значений. Если сумма равна 7 или 11, выведите на экран \"Я победил!!!\". Если сумма равна 2, 3 или 12, то выведите на экран \"Я проиграл :(\". Во всех остальных случаях выведите на экран сумму значений.\n"
      ]
    },
    {
      "cell_type": "code",
      "metadata": {
        "id": "Hpuyvng8oLOi",
        "colab_type": "code",
        "outputId": "5e94b570-821f-41fe-8251-9b198e6c48bc",
        "colab": {
          "base_uri": "https://localhost:8080/",
          "height": 67
        }
      },
      "source": [
        "d1 = int(input('Бросье 1 кубик: '))\n",
        "d2 = int(input('Бросье 2 кубик: '))\n",
        "\n",
        "R = range(1,7)\n",
        "\n",
        "if d1 not in R:\n",
        "  print(('Ошибка! Значение {} на 1 кубике вне диапазона').format(d1))\n",
        "\n",
        "if d2 not in R:\n",
        "  print(('Ошибка! Значение {} на 2 кубике вне диапазона').format(d2))\n",
        "\n",
        "if d1 in R and d2 in R:\n",
        "\n",
        "  d_sum = d1 + d2\n",
        "  \n",
        "  if d_sum ==7  or d_sum == 11:\n",
        "    print('Я победил! ' )\n",
        "\n",
        "  elif d_sum == 2 or d_sum == 3 or d_sum == 12:\n",
        "    print('Я проиграл :(')\n",
        "\n",
        "  else:\n",
        "    print('Сумма значений =', d_sum)"
      ],
      "execution_count": 0,
      "outputs": [
        {
          "output_type": "stream",
          "text": [
            "Бросье 1 кубик: 3\n",
            "Бросье 2 кубик: 9\n",
            "Ошибка! Значение 9 на 2 кубике вне диапазона\n"
          ],
          "name": "stdout"
        }
      ]
    },
    {
      "cell_type": "markdown",
      "metadata": {
        "id": "OTSU9QTLhdqe",
        "colab_type": "text"
      },
      "source": [
        "### Задача 5\n",
        "\n",
        "Напишите код, который ищет все числа в интервале от 3000 до 4300 включительно, делящиеся на 11, но не делящиеся на 5. Выведите на экран все найденные числа."
      ]
    },
    {
      "cell_type": "code",
      "metadata": {
        "id": "py0btTiv619S",
        "colab_type": "code",
        "outputId": "1a14aed8-8cb7-4609-808d-33ffd83afb69",
        "colab": {
          "base_uri": "https://localhost:8080/",
          "height": 1000
        }
      },
      "source": [
        "for i in range(3000, 4301):\n",
        "  if i % 11 == 0 and i % 5 != 5:\n",
        "    print(i)"
      ],
      "execution_count": 0,
      "outputs": [
        {
          "output_type": "stream",
          "text": [
            "3003\n",
            "3014\n",
            "3025\n",
            "3036\n",
            "3047\n",
            "3058\n",
            "3069\n",
            "3080\n",
            "3091\n",
            "3102\n",
            "3113\n",
            "3124\n",
            "3135\n",
            "3146\n",
            "3157\n",
            "3168\n",
            "3179\n",
            "3190\n",
            "3201\n",
            "3212\n",
            "3223\n",
            "3234\n",
            "3245\n",
            "3256\n",
            "3267\n",
            "3278\n",
            "3289\n",
            "3300\n",
            "3311\n",
            "3322\n",
            "3333\n",
            "3344\n",
            "3355\n",
            "3366\n",
            "3377\n",
            "3388\n",
            "3399\n",
            "3410\n",
            "3421\n",
            "3432\n",
            "3443\n",
            "3454\n",
            "3465\n",
            "3476\n",
            "3487\n",
            "3498\n",
            "3509\n",
            "3520\n",
            "3531\n",
            "3542\n",
            "3553\n",
            "3564\n",
            "3575\n",
            "3586\n",
            "3597\n",
            "3608\n",
            "3619\n",
            "3630\n",
            "3641\n",
            "3652\n",
            "3663\n",
            "3674\n",
            "3685\n",
            "3696\n",
            "3707\n",
            "3718\n",
            "3729\n",
            "3740\n",
            "3751\n",
            "3762\n",
            "3773\n",
            "3784\n",
            "3795\n",
            "3806\n",
            "3817\n",
            "3828\n",
            "3839\n",
            "3850\n",
            "3861\n",
            "3872\n",
            "3883\n",
            "3894\n",
            "3905\n",
            "3916\n",
            "3927\n",
            "3938\n",
            "3949\n",
            "3960\n",
            "3971\n",
            "3982\n",
            "3993\n",
            "4004\n",
            "4015\n",
            "4026\n",
            "4037\n",
            "4048\n",
            "4059\n",
            "4070\n",
            "4081\n",
            "4092\n",
            "4103\n",
            "4114\n",
            "4125\n",
            "4136\n",
            "4147\n",
            "4158\n",
            "4169\n",
            "4180\n",
            "4191\n",
            "4202\n",
            "4213\n",
            "4224\n",
            "4235\n",
            "4246\n",
            "4257\n",
            "4268\n",
            "4279\n",
            "4290\n"
          ],
          "name": "stdout"
        }
      ]
    },
    {
      "cell_type": "markdown",
      "metadata": {
        "id": "m-pYH0xDhdqk",
        "colab_type": "text"
      },
      "source": [
        "### Задача 6\n",
        "\n",
        "Используя циклы, напишите код, который создает список (list) путем конкатенации значений данного листа с целыми числами от 1 до (произвольного) n включительно.\n",
        "\n",
        "Пример:\n",
        "\n",
        "для списка [\"сосиски\", \"горчица\"] при n = 3 результат должен выглядеть так:\n",
        "\n",
        "['сосиски$\\_$1', 'горчица$\\_$1', 'сосиски$\\_2$', 'горчица$\\_$2', 'сосиски$\\_$3', 'горчица$\\_$3']"
      ]
    },
    {
      "cell_type": "code",
      "metadata": {
        "id": "Eqz3zAL-hdqq",
        "colab_type": "code",
        "outputId": "3a7e90d5-38cd-465e-8fef-92087bd92be1",
        "colab": {
          "base_uri": "https://localhost:8080/",
          "height": 70
        }
      },
      "source": [
        "sample_list = [\"мандаринки\", \"киви\", \"лимон\"]\n",
        "n = int(input('Ведите целое число: '))\n",
        "\n",
        "fin_lst = []\n",
        "for i in range(n):\n",
        "  for el in sample_list:\n",
        "    fin_lst.append(el + '_' + str(i+1))\n",
        "print(fin_lst)"
      ],
      "execution_count": 0,
      "outputs": [
        {
          "output_type": "stream",
          "text": [
            "Ведите целое число: 5\n",
            "['мандаринки_1', 'киви_1', 'лимон_1', 'мандаринки_2', 'киви_2', 'лимон_2', 'мандаринки_3', 'киви_3', 'лимон_3', 'мандаринки_4', 'киви_4', 'лимон_4', 'мандаринки_5', 'киви_5', 'лимон_5']\n"
          ],
          "name": "stdout"
        }
      ]
    },
    {
      "cell_type": "markdown",
      "metadata": {
        "id": "WtwsV6BRhdrE",
        "colab_type": "text"
      },
      "source": [
        "### Задача 7\n",
        "\n",
        "Напишите код, который считает количество элементов в заданном списке до тех пор, пока не встретится элемент типа словарь.\n",
        "\n",
        "Пример:\n",
        "\n",
        "для списка [3, \"котики\", 0.45, 5, {'котики' : 2, 'слоники' : 9}, \"слоники\", 34] на выходе должны получить число 4"
      ]
    },
    {
      "cell_type": "code",
      "metadata": {
        "id": "m5iv-Hj9hdrM",
        "colab_type": "code",
        "outputId": "8e8ffc6f-6645-473f-daee-1bf9e5c08cf2",
        "colab": {
          "base_uri": "https://localhost:8080/",
          "height": 50
        }
      },
      "source": [
        "list_for_pro_task_2 = [35, 0.24, 3 + 4j, \"котики\", 0.45, (8, 9), \"слоники\", {\"Мадрид\": 3, 'Лондон':5}, 23498]\n",
        "print(list_for_pro_task_2)\n",
        "\n",
        "for i in range(len(list_for_pro_task_2)):\n",
        "  if type(list_for_pro_task_2[i]) == dict:\n",
        "    print('Количество элементов до словаря:', i)"
      ],
      "execution_count": 0,
      "outputs": [
        {
          "output_type": "stream",
          "text": [
            "[35, 0.24, (3+4j), 'котики', 0.45, (8, 9), 'слоники', {'Мадрид': 3, 'Лондон': 5}, 23498]\n",
            "Количество элементов до словаря: 7\n"
          ],
          "name": "stdout"
        }
      ]
    },
    {
      "cell_type": "markdown",
      "metadata": {
        "id": "fHMBDh-ahdrz",
        "colab_type": "text"
      },
      "source": [
        "### Задача 8\n",
        "\n",
        "Создайте словарь (dict) c ключами, соответствующими числам от 1 до 20 включительно и значениями, соответствующими квадратам ключей. \n",
        "\n",
        "P.S. используйте циклы или функции, прямое \"ручное\" присваивание не допускается (!!!)\n",
        "\n",
        "Пример: \n",
        "\n",
        "для чисел от 1 до 3 включительно словарь должен выглядеть так: {1 : 1, 2 : 4, 3 : 9}"
      ]
    },
    {
      "cell_type": "code",
      "metadata": {
        "id": "3ThRPMLr2Pl2",
        "colab_type": "code",
        "outputId": "de69ed1d-61ed-490b-f991-78380f2ae478",
        "colab": {
          "base_uri": "https://localhost:8080/",
          "height": 34
        }
      },
      "source": [
        "# решение с циклом while\n",
        "i = 1\n",
        "data = {}\n",
        "\n",
        "while i <= 20:\n",
        "    data[i] = i**2\n",
        "    i+=1\n",
        "print(data)"
      ],
      "execution_count": 0,
      "outputs": [
        {
          "output_type": "stream",
          "text": [
            "{1: 1, 2: 4, 3: 9, 4: 16, 5: 25, 6: 36, 7: 49, 8: 64, 9: 81, 10: 100, 11: 121, 12: 144, 13: 169, 14: 196, 15: 225, 16: 256, 17: 289, 18: 324, 19: 361, 20: 400}\n"
          ],
          "name": "stdout"
        }
      ]
    },
    {
      "cell_type": "code",
      "metadata": {
        "id": "KOEW6JhL3uYn",
        "colab_type": "code",
        "outputId": "cef884b0-df24-494e-da4e-c8eb4d0ea276",
        "colab": {
          "base_uri": "https://localhost:8080/",
          "height": 34
        }
      },
      "source": [
        "# решение с циклом for\n",
        "data = {}\n",
        "\n",
        "for i in range(20):\n",
        "  data[i+1] = (i+1)**2\n",
        "print(data)\n",
        "\n"
      ],
      "execution_count": 0,
      "outputs": [
        {
          "output_type": "stream",
          "text": [
            "{1: 1, 2: 4, 3: 9, 4: 16, 5: 25, 6: 36, 7: 49, 8: 64, 9: 81, 10: 100, 11: 121, 12: 144, 13: 169, 14: 196, 15: 225, 16: 256, 17: 289, 18: 324, 19: 361, 20: 400}\n"
          ],
          "name": "stdout"
        }
      ]
    },
    {
      "cell_type": "markdown",
      "metadata": {
        "id": "LxnJomyMLqm0",
        "colab_type": "text"
      },
      "source": [
        ""
      ]
    }
  ]
}